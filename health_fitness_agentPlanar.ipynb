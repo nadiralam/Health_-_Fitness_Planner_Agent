{
  "nbformat": 4,
  "nbformat_minor": 0,
  "metadata": {
    "colab": {
      "provenance": [],
      "gpuType": "T4",
      "authorship_tag": "ABX9TyO8bPupMXpQ3WVHVDV/KcBh",
      "include_colab_link": true
    },
    "kernelspec": {
      "name": "python3",
      "display_name": "Python 3"
    },
    "language_info": {
      "name": "python"
    },
    "accelerator": "GPU"
  },
  "cells": [
    {
      "cell_type": "markdown",
      "metadata": {
        "id": "view-in-github",
        "colab_type": "text"
      },
      "source": [
        "<a href=\"https://colab.research.google.com/github/nadiralam/Health_-_Fitness_Planner_Agent/blob/main/health_fitness_agentPlanar.ipynb\" target=\"_parent\"><img src=\"https://colab.research.google.com/assets/colab-badge.svg\" alt=\"Open In Colab\"/></a>"
      ]
    },
    {
      "cell_type": "code",
      "execution_count": null,
      "metadata": {
        "colab": {
          "base_uri": "https://localhost:8080/"
        },
        "id": "Xae_zP4mMERz",
        "outputId": "7275d07e-6f15-475a-cab4-dfd0b34cee03"
      },
      "outputs": [
        {
          "output_type": "stream",
          "name": "stdout",
          "text": [
            "\u001b[2K     \u001b[90m━━━━━━━━━━━━━━━━━━━━━━━━━━━━━━━━━━━━━━━━\u001b[0m \u001b[32m46.0/46.0 kB\u001b[0m \u001b[31m1.1 MB/s\u001b[0m eta \u001b[36m0:00:00\u001b[0m\n",
            "\u001b[2K   \u001b[90m━━━━━━━━━━━━━━━━━━━━━━━━━━━━━━━━━━━━━━━━\u001b[0m \u001b[32m54.1/54.1 MB\u001b[0m \u001b[31m14.0 MB/s\u001b[0m eta \u001b[36m0:00:00\u001b[0m\n",
            "\u001b[2K   \u001b[90m━━━━━━━━━━━━━━━━━━━━━━━━━━━━━━━━━━━━━━━━\u001b[0m \u001b[32m323.1/323.1 kB\u001b[0m \u001b[31m15.7 MB/s\u001b[0m eta \u001b[36m0:00:00\u001b[0m\n",
            "\u001b[2K   \u001b[90m━━━━━━━━━━━━━━━━━━━━━━━━━━━━━━━━━━━━━━━━\u001b[0m \u001b[32m726.7/726.7 kB\u001b[0m \u001b[31m34.1 MB/s\u001b[0m eta \u001b[36m0:00:00\u001b[0m\n",
            "\u001b[2K   \u001b[90m━━━━━━━━━━━━━━━━━━━━━━━━━━━━━━━━━━━━━━━━\u001b[0m \u001b[32m95.2/95.2 kB\u001b[0m \u001b[31m7.2 MB/s\u001b[0m eta \u001b[36m0:00:00\u001b[0m\n",
            "\u001b[2K   \u001b[90m━━━━━━━━━━━━━━━━━━━━━━━━━━━━━━━━━━━━━━━━\u001b[0m \u001b[32m11.5/11.5 MB\u001b[0m \u001b[31m73.6 MB/s\u001b[0m eta \u001b[36m0:00:00\u001b[0m\n",
            "\u001b[2K   \u001b[90m━━━━━━━━━━━━━━━━━━━━━━━━━━━━━━━━━━━━━━━━\u001b[0m \u001b[32m72.0/72.0 kB\u001b[0m \u001b[31m6.4 MB/s\u001b[0m eta \u001b[36m0:00:00\u001b[0m\n",
            "\u001b[2K   \u001b[90m━━━━━━━━━━━━━━━━━━━━━━━━━━━━━━━━━━━━━━━━\u001b[0m \u001b[32m62.5/62.5 kB\u001b[0m \u001b[31m4.2 MB/s\u001b[0m eta \u001b[36m0:00:00\u001b[0m\n",
            "\u001b[2K   \u001b[90m━━━━━━━━━━━━━━━━━━━━━━━━━━━━━━━━━━━━━━━━\u001b[0m \u001b[32m44.4/44.4 kB\u001b[0m \u001b[31m472.5 kB/s\u001b[0m eta \u001b[36m0:00:00\u001b[0m\n",
            "\u001b[2K   \u001b[90m━━━━━━━━━━━━━━━━━━━━━━━━━━━━━━━━━━━━━━━━\u001b[0m \u001b[32m236.0/236.0 kB\u001b[0m \u001b[31m18.0 MB/s\u001b[0m eta \u001b[36m0:00:00\u001b[0m\n",
            "\u001b[?25h"
          ]
        }
      ],
      "source": [
        "!pip install -q gradio agno"
      ]
    },
    {
      "cell_type": "code",
      "source": [],
      "metadata": {
        "id": "rPS53OqE4IYQ"
      },
      "execution_count": null,
      "outputs": []
    },
    {
      "cell_type": "code",
      "source": [
        "from google.colab import userdata\n",
        "api_key = userdata.get('Gemini_key')"
      ],
      "metadata": {
        "id": "7FjHFqhuMExM"
      },
      "execution_count": null,
      "outputs": []
    },
    {
      "cell_type": "code",
      "source": [
        "import gradio as gr\n",
        "from agno.agent import Agent\n",
        "from agno.models.google import Gemini\n"
      ],
      "metadata": {
        "id": "ypf7iK42ME0P"
      },
      "execution_count": null,
      "outputs": []
    },
    {
      "cell_type": "code",
      "source": [
        "# Global session state\n",
        "session_state = {\n",
        "    \"dietary_plan\": {},\n",
        "    \"fitness_plan\": {},\n",
        "    \"qa_pairs\": [],\n",
        "    \"plans_generated\": False\n",
        "}\n"
      ],
      "metadata": {
        "id": "kQ-tbW2YME3B"
      },
      "execution_count": null,
      "outputs": []
    },
    {
      "cell_type": "code",
      "source": [],
      "metadata": {
        "id": "WYewaGRLNDFI"
      },
      "execution_count": null,
      "outputs": []
    },
    {
      "cell_type": "code",
      "source": [
        "# Function to generate plans\n",
        "def generate_plans(name, age, height, weight, sex, activity_level, fitness_goals, dietary_preferences, api_key):\n",
        "    try:\n",
        "        gemini_model = Gemini(id=\"gemini-1.5-flash\", api_key=api_key)\n",
        "\n",
        "        user_profile = f\"\"\"\n",
        "        Name: {name}\n",
        "        Age: {age}\n",
        "        Weight: {weight}kg\n",
        "        Height: {height}cm\n",
        "        Sex: {sex}\n",
        "        Activity Level: {activity_level}\n",
        "        Dietary Preferences: {dietary_preferences}\n",
        "        Fitness Goals: {fitness_goals}\n",
        "        \"\"\"\n",
        "\n",
        "        dietary_agent = Agent(\n",
        "            name=\"Dietary Expert\",\n",
        "            role=\"Provides personalized dietary recommendations\",\n",
        "            model=gemini_model,\n",
        "            instructions=[\n",
        "                \"Consider the user's input, including dietary restrictions and preferences.\",\n",
        "                \"Suggest a detailed meal plan for the day, including breakfast, lunch, dinner, and snacks.\",\n",
        "                \"Provide a brief explanation of why the plan is suited to the user's goals.\",\n",
        "                \"Focus on clarity, coherence, and quality of the recommendations.\",\n",
        "            ]\n",
        "        )\n",
        "\n",
        "        fitness_agent = Agent(\n",
        "            name=\"Fitness Expert\",\n",
        "            role=\"Provides personalized fitness recommendations\",\n",
        "            model=gemini_model,\n",
        "            instructions=[\n",
        "                \"Provide exercises tailored to the user's goals.\",\n",
        "                \"Include warm-up, main workout, and cool-down exercises.\",\n",
        "                \"Explain the benefits of each recommended exercise.\",\n",
        "                \"Ensure the plan is actionable and detailed.\",\n",
        "            ]\n",
        "        )\n",
        "\n",
        "        dietary_plan_response = dietary_agent.run(user_profile)\n",
        "        fitness_plan_response = fitness_agent.run(user_profile)\n",
        "\n",
        "        dietary_plan = {\n",
        "            \"why_this_plan_works\": \"High Protein, Healthy Fats, Moderate Carbohydrates, and Caloric Balance\",\n",
        "            \"meal_plan\": dietary_plan_response.content,\n",
        "            \"important_considerations\": \"\"\"\n",
        "- Hydration: Drink plenty of water throughout the day\n",
        "- Electrolytes: Monitor sodium, potassium, and magnesium levels\n",
        "- Fiber: Ensure adequate intake through vegetables and fruits\n",
        "- Listen to your body: Adjust portion sizes as needed\n",
        "\"\"\"\n",
        "        }\n",
        "\n",
        "        fitness_plan = {\n",
        "            \"goals\": \"Build strength, improve endurance, and maintain overall fitness\",\n",
        "            \"routine\": fitness_plan_response.content,\n",
        "            \"tips\": \"\"\"\n",
        "- Track your progress regularly\n",
        "- Allow proper rest between workouts\n",
        "- Focus on proper form\n",
        "- Stay consistent with your routine\n",
        "\"\"\"\n",
        "        }\n",
        "\n",
        "        session_state[\"dietary_plan\"] = dietary_plan\n",
        "        session_state[\"fitness_plan\"] = fitness_plan\n",
        "        session_state[\"plans_generated\"] = True\n",
        "\n",
        "        return (\n",
        "            f\"## 🥗 Why this Plan Works\\n{dietary_plan['why_this_plan_works']}\\n\\n\"\n",
        "            f\"## 📋 Meal Plan\\n{dietary_plan['meal_plan']}\\n\\n\"\n",
        "            f\"### ⚠️ Considerations:\\n{dietary_plan['important_considerations']}\",\n",
        "            f\"## 🏋️‍♂️ Fitness Goals\\n{fitness_plan['goals']}\\n\\n\"\n",
        "            f\"## 💪 Exercise Routine\\n{fitness_plan['routine']}\\n\\n\"\n",
        "            f\"### 💡 Tips:\\n{fitness_plan['tips']}\"\n",
        "        )\n",
        "\n",
        "    except Exception as e:\n",
        "        return f\"❌ Error: {e}\", \"\"\n"
      ],
      "metadata": {
        "id": "_JAPj8x9ME6H"
      },
      "execution_count": null,
      "outputs": []
    },
    {
      "cell_type": "code",
      "source": [
        "# Function to ask questions\n",
        "def ask_question(question, api_key):\n",
        "    if not session_state[\"plans_generated\"]:\n",
        "        return \"Please generate a plan first.\"\n",
        "\n",
        "    dietary_plan = session_state[\"dietary_plan\"]\n",
        "    fitness_plan = session_state[\"fitness_plan\"]\n",
        "\n",
        "    context = f\"Dietary Plan: {dietary_plan.get('meal_plan', '')}\\n\\nFitness Plan: {fitness_plan.get('routine', '')}\"\n",
        "    full_context = f\"{context}\\nUser Question: {question}\"\n",
        "\n",
        "    try:\n",
        "        gemini_model = Gemini(id=\"gemini-1.5-flash\", api_key=api_key)\n",
        "        agent = Agent(model=gemini_model)\n",
        "        run_response = agent.run(full_context)\n",
        "        answer = run_response.content if hasattr(run_response, 'content') else \"No answer generated.\"\n",
        "        session_state[\"qa_pairs\"].append((question, answer))\n",
        "        return answer\n",
        "    except Exception as e:\n",
        "        return f\"❌ Error getting answer: {e}\"\n",
        "\n"
      ],
      "metadata": {
        "id": "MBohfFmIME9x"
      },
      "execution_count": null,
      "outputs": []
    },
    {
      "cell_type": "code",
      "source": [
        "# Gradio UI\n",
        "with gr.Blocks(title=\"AI Health & Fitness Planner\") as demo:\n",
        "    gr.Markdown(\"## 🏋️‍♂️ AI Health & Fitness Planner\")\n",
        "    gr.Markdown(\"Achieve your goals with smart, personalized diet and fitness plans—crafted just for you by AI!\")\n",
        "\n",
        "    with gr.Tab(\"🔐 API & Profile Setup\"):\n",
        "        api_key = gr.Textbox(label=\"Gemini API Key\", type=\"password\", placeholder=\"Paste your API key here\")\n",
        "        name = gr.Textbox(label=\"Name\")\n",
        "        age = gr.Number(label=\"Age\", value=25, precision=0)\n",
        "        height = gr.Number(label=\"Height (cm)\", value=170.0)\n",
        "        weight = gr.Number(label=\"Weight (kg)\", value=65.0)\n",
        "        sex = gr.Dropdown(label=\"Sex\", choices=[\"Male\", \"Female\", \"Other\"])\n",
        "        activity_level = gr.Dropdown(label=\"Activity Level\", choices=[\"Sedentary\", \"Lightly Active\", \"Moderately Active\", \"Very Active\", \"Extremely Active\"])\n",
        "        fitness_goals = gr.Dropdown(label=\"Fitness Goals\", choices=[\"Lose Weight\", \"Gain Muscle\", \"Endurance\", \"Stay Fit\", \"Strength Training\"])\n",
        "        dietary_preferences = gr.Dropdown(label=\"Dietary Preferences\", choices=[\"Vegetarian\",\"Non vegetarian\", \"Keto\", \"Gluten Free\", \"Low Carb\", \"Dairy Free\"])\n",
        "\n",
        "        generate_button = gr.Button(\"🎯 Generate Plan\")\n",
        "        dietary_output = gr.Markdown()\n",
        "        fitness_output = gr.Markdown()\n",
        "\n",
        "    generate_button.click(\n",
        "        generate_plans,\n",
        "        inputs=[name, age, height, weight, sex, activity_level, fitness_goals, dietary_preferences, api_key],\n",
        "        outputs=[dietary_output, fitness_output]\n",
        "    )\n",
        "\n",
        "    with gr.Tab(\"💬 Ask About Your Plan\"):\n",
        "        question = gr.Textbox(label=\"Ask a Question\")\n",
        "        answer_output = gr.Markdown()\n",
        "        ask_button = gr.Button(\"Get Answer\")\n",
        "\n",
        "        ask_button.click(\n",
        "            ask_question,\n",
        "            inputs=[question, api_key],\n",
        "            outputs=answer_output\n",
        "        )\n",
        "\n",
        "\n"
      ],
      "metadata": {
        "id": "DvQELKYrM4dp"
      },
      "execution_count": null,
      "outputs": []
    },
    {
      "cell_type": "code",
      "source": [
        "demo.launch()"
      ],
      "metadata": {
        "colab": {
          "base_uri": "https://localhost:8080/",
          "height": 645
        },
        "id": "2CR5qfrzM4hL",
        "outputId": "9df44f34-7c44-4bc2-ba19-d3a54318ef88"
      },
      "execution_count": null,
      "outputs": [
        {
          "output_type": "stream",
          "name": "stdout",
          "text": [
            "It looks like you are running Gradio on a hosted a Jupyter notebook. For the Gradio app to work, sharing must be enabled. Automatically setting `share=True` (you can turn this off by setting `share=False` in `launch()` explicitly).\n",
            "\n",
            "Colab notebook detected. To show errors in colab notebook, set debug=True in launch()\n",
            "* Running on public URL: https://11f4a51b3dbd42bd86.gradio.live\n",
            "\n",
            "This share link expires in 1 week. For free permanent hosting and GPU upgrades, run `gradio deploy` from the terminal in the working directory to deploy to Hugging Face Spaces (https://huggingface.co/spaces)\n"
          ]
        },
        {
          "output_type": "display_data",
          "data": {
            "text/plain": [
              "<IPython.core.display.HTML object>"
            ],
            "text/html": [
              "<div><iframe src=\"https://11f4a51b3dbd42bd86.gradio.live\" width=\"100%\" height=\"500\" allow=\"autoplay; camera; microphone; clipboard-read; clipboard-write;\" frameborder=\"0\" allowfullscreen></iframe></div>"
            ]
          },
          "metadata": {}
        },
        {
          "output_type": "execute_result",
          "data": {
            "text/plain": []
          },
          "metadata": {},
          "execution_count": 8
        }
      ]
    },
    {
      "cell_type": "code",
      "source": [],
      "metadata": {
        "id": "pIROWDggM4j_"
      },
      "execution_count": null,
      "outputs": []
    }
  ]
}